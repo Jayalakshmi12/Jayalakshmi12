{
 "cells": [
  {
   "cell_type": "markdown",
   "metadata": {},
   "source": [
    "Context\n",
    "Weather analysis and forecast is very crucial Navy industry, Aeronautical, Space, Agriculture and so on. Navy, Aeronautical, Spaceship are dependent on rain and heavy rainfall caused flood frequently leading to very complex phenomenon which is dependent on various atmospheric, oceanic and geographical parameters. The relationship between these parameters and rainfall is unstable. Climate related data is important to analyze agricultural and crop seeding related field, where those data can be used to show the predict the rainfall in different season also for different types of crops. \n",
    "\n",
    "Weather Details are collected for the contry India\n",
    "Also data collected for Bengaluru\n",
    "Also data was collected for city London.\n",
    "This data is used for analysis."
   ]
  },
  {
   "cell_type": "code",
   "execution_count": 113,
   "metadata": {},
   "outputs": [],
   "source": [
    "# Importing statsmodels which is useful for statistics\n",
    "import statsmodels.api as sm "
   ]
  },
  {
   "cell_type": "code",
   "execution_count": 114,
   "metadata": {},
   "outputs": [],
   "source": [
    "# Importing Scientific features from scipy.stats\n",
    "import scipy.stats as stats\n",
    "import os\n",
    "import pandas as pd\n",
    "from pandas import DataFrame\n",
    "import numpy as np\n",
    "import matplotlib.pyplot as plt # Importing matplot library which is used in graph"
   ]
  },
  {
   "cell_type": "code",
   "execution_count": 115,
   "metadata": {
    "scrolled": true
   },
   "outputs": [],
   "source": [
    "# Importing pyspark so that py spark session can be created and used\n",
    "import pyspark\n",
    "from pyspark.sql import SparkSession # Pyspark sql is imported to get sql features\n",
    "%matplotlib inline\n",
    "# session is created so that data frames can be created\n",
    "session = SparkSession.builder.appName('DataFrame Demo').getOrCreate()"
   ]
  },
  {
   "cell_type": "code",
   "execution_count": 116,
   "metadata": {},
   "outputs": [],
   "source": [
    "from pyspark.sql import Row\n",
    "# Importing from files into data frames respectively\n",
    "#Data frame creation for India weather\n",
    "df_weather_india = session.read.options(header=True, delimiter=',').csv('./weatherdata.csv')\n",
    "# Data frame creation for Londan weather\n",
    "df_weather_London = session.read.options(header=True, delimiter=',').csv('./history_bulk_London.csv')"
   ]
  },
  {
   "cell_type": "markdown",
   "metadata": {},
   "source": [
    "For India Weather the dataframe is created below \n",
    "Accordingly Metrics are calculated\n",
    "Here Metrics include MIN Temperature, Max Temperature,\n",
    "MIN Precipitation and so on"
   ]
  },
  {
   "cell_type": "code",
   "execution_count": 117,
   "metadata": {},
   "outputs": [
    {
     "data": {
      "text/plain": [
       "<bound method DataFrame.count of DataFrame[Name0: string, WindDirection: string, Period: string, Temperature: string, MaximumTemperature: string, Visibility: string, Latitude: string, WindSpeed: string, HeatIndex: string, CloudCover: string, MinimumTemperature: string, Datetime: string, Precipitation: string, SnowDepth: string, SeaLevelPressure: string, DewPoint: string, Name16: string, RelativeHumidity: string, ID: string, PrecipitationCover: string, WindGust: string, WindChill: string, Longitude: string]>"
      ]
     },
     "execution_count": 117,
     "metadata": {},
     "output_type": "execute_result"
    }
   ],
   "source": [
    "df_weather_india.createOrReplaceTempView(\"data1\")\n",
    "session.table(\"data1\")\n",
    "session.table(\"data1\").count"
   ]
  },
  {
   "cell_type": "code",
   "execution_count": 118,
   "metadata": {},
   "outputs": [
    {
     "name": "stdout",
     "output_type": "stream",
     "text": [
      "+--------+\n",
      "|MAX_TEMP|\n",
      "+--------+\n",
      "|    33.6|\n",
      "+--------+\n",
      "\n"
     ]
    }
   ],
   "source": [
    "from pyspark.sql import SparkSession\n",
    "from pyspark.sql.types import *\n",
    "#sc = SparkContext()\n",
    "#spark = SparkSession(sc)\n",
    "#sqlContext = SQLContext(sc)\n",
    "metrics = session.sql(\"Select MAX(Temperature) AS MAX_TEMP from data1\")\n",
    "metrics.show()"
   ]
  },
  {
   "cell_type": "code",
   "execution_count": 119,
   "metadata": {},
   "outputs": [
    {
     "name": "stdout",
     "output_type": "stream",
     "text": [
      "+---------------+\n",
      "|MAX_PRECIPITATE|\n",
      "+---------------+\n",
      "|           4.95|\n",
      "+---------------+\n",
      "\n"
     ]
    }
   ],
   "source": [
    "metrics = session.sql(\"Select MAX(PrecipitationCover) as MAX_PRECIPITATE from data1\")\n",
    "metrics.show()"
   ]
  },
  {
   "cell_type": "code",
   "execution_count": 120,
   "metadata": {},
   "outputs": [
    {
     "name": "stdout",
     "output_type": "stream",
     "text": [
      "+--------------------+------+\n",
      "|MIN_PRECIPITATECOVER|Period|\n",
      "+--------------------+------+\n",
      "|                0.39|   Oct|\n",
      "|                2.99|   Sep|\n",
      "|                0.28|   Dec|\n",
      "|                 4.4|   Aug|\n",
      "|                2.15|   May|\n",
      "|                2.86|   Jun|\n",
      "|                1.42|   Feb|\n",
      "|                0.37|   Nov|\n",
      "|                1.19|   Mar|\n",
      "|                1.41|   Jan|\n",
      "|                 1.2|   Apr|\n",
      "|                4.95|   Jul|\n",
      "+--------------------+------+\n",
      "\n",
      "+--------------------+\n",
      "|MAX_SeaLevelPressure|\n",
      "+--------------------+\n",
      "|               997.9|\n",
      "+--------------------+\n",
      "\n"
     ]
    }
   ],
   "source": [
    "metrics = session.sql(\"Select MIN(PrecipitationCover) as MIN_PRECIPITATECOVER,Period from data1 group by Period\")\n",
    "metrics.show()\n",
    "\n",
    "metrics = session.sql(\"Select MAX(SeaLevelPressure) as MAX_SeaLevelPressure from data1\")\n",
    "metrics.show()"
   ]
  },
  {
   "cell_type": "code",
   "execution_count": 121,
   "metadata": {},
   "outputs": [
    {
     "name": "stdout",
     "output_type": "stream",
     "text": [
      "+--------------+\n",
      "|MAX_WIND_SPEED|\n",
      "+--------------+\n",
      "|          85.3|\n",
      "+--------------+\n",
      "\n",
      "+--------------+\n",
      "|MIN_WIND_SPEED|\n",
      "+--------------+\n",
      "|          35.3|\n",
      "+--------------+\n",
      "\n"
     ]
    }
   ],
   "source": [
    "metrics = session.sql(\"Select MAX(WindSpeed) as MAX_WIND_SPEED from data1\")\n",
    "metrics.show()\n",
    "metrics = session.sql(\"Select MIN(WindSpeed) as MIN_WIND_SPEED from data1\")\n",
    "metrics.show()"
   ]
  },
  {
   "cell_type": "code",
   "execution_count": 122,
   "metadata": {},
   "outputs": [
    {
     "name": "stdout",
     "output_type": "stream",
     "text": [
      "+--------+\n",
      "|MIN_TEMP|\n",
      "+--------+\n",
      "|    13.6|\n",
      "+--------+\n",
      "\n"
     ]
    }
   ],
   "source": [
    "metrics = session.sql(\"Select MIN(Temperature) AS MIN_TEMP from data1\")\n",
    "metrics.show()"
   ]
  },
  {
   "cell_type": "markdown",
   "metadata": {},
   "source": [
    "Type casting few columns"
   ]
  },
  {
   "cell_type": "code",
   "execution_count": null,
   "metadata": {},
   "outputs": [],
   "source": [
    "import matplotlib.pyplot as plt; plt.rcdefaults()\n",
    "import numpy as np\n",
    "import matplotlib.pyplot as plt\n",
    "xpos=session.sql(\"select CAST(Temperature as Float) as Temperature from data1\")\n",
    "xpos.show()\n",
    "ypos=session.sql(\"select CAST(Period as String) as Period from data1\")\n",
    "ypos.show()\n"
   ]
  },
  {
   "cell_type": "code",
   "execution_count": 124,
   "metadata": {},
   "outputs": [
    {
     "data": {
      "image/png": "[encoded data removed]",
      "text/plain": [
       "<Figure size 640x480 with 1 Axes>"
      ]
     },
     "metadata": {},
     "output_type": "display_data"
    }
   ],
   "source": [
    "import numpy as np\n",
    "import matplotlib.pyplot as plt\n",
    "\n",
    "# data to plot\n",
    "n_groups = 4\n",
    "means_frank = session.sql(\"select CAST(Temperature as int) from data1\")\n",
    "means_guido = session.sql(\"select CAST(Precipitation as int) from data1\")\n",
    "\n",
    "# create plot\n",
    "fig, ax = plt.subplots()\n",
    "index = np.arange(n_groups)\n",
    "bar_width = 0.35\n",
    "opacity = 0.8\n",
    "means_frank = (90, 55, 40, 65)\n",
    "means_guido = (85, 62, 54, 20)\n",
    "rects1 = plt.bar(index, means_frank, bar_width,\n",
    "alpha=opacity,\n",
    "color='b',\n",
    "label='Precipitate')\n",
    "\n",
    "rects2 = plt.bar(index + bar_width, means_guido, bar_width,\n",
    "alpha=opacity,\n",
    "color='g',\n",
    "label='Heat')\n",
    "\n",
    "plt.xlabel('Temperature')\n",
    "plt.ylabel('Period')\n",
    "plt.title('Temperature by Period')\n",
    "plt.xticks(index + bar_width, ('A', 'B', 'C', 'D'))\n",
    "plt.legend()\n",
    "\n",
    "plt.tight_layout()\n",
    "plt.show()"
   ]
  },
  {
   "cell_type": "code",
   "execution_count": 125,
   "metadata": {},
   "outputs": [
    {
     "name": "stdout",
     "output_type": "stream",
     "text": [
      "+----------+--------------------+--------+---------+---------+---------+------+----------+--------+--------+--------+---------+----------+--------+----------+--------+-------+-------+-------+-------+----------+----------+------------+-------------------+------------+\n",
      "|        dt|              dt_iso|timezone|city_name| latitude|longitude|  temp|feels_like|temp_min|temp_max|pressure|sea_level|grnd_level|humidity|wind_speed|wind_deg|rain_1h|rain_3h|snow_1h|snow_3h|clouds_all|weather_id|weather_main|weather_description|weather_icon|\n",
      "+----------+--------------------+--------+---------+---------+---------+------+----------+--------+--------+--------+---------+----------+--------+----------+--------+-------+-------+-------+-------+----------+----------+------------+-------------------+------------+\n",
      "|1593561600|2020-07-01 00:00:...|    3600|   London|51.507351|-0.127758|289.89|    287.15| 288.468|  291.15|    1004|     null|      null|      77|       5.1|     230|   null|   null|   null|   null|        90|       804|      Clouds|    overcast clouds|         04n|\n",
      "|1593565200|2020-07-02 00:00:...|    3600|   London|51.507351|-0.127758|289.27|     287.7| 287.588|  290.37|    1004|     null|      null|      82|       3.6|     230|   null|   null|   null|   null|        90|       500|        Rain|         light rain|         10n|\n",
      "|1593568800|2020-07-03 00:00:...|    3600|   London|51.507351|-0.127758|288.97|    285.66| 287.257|  290.15|    1003|     null|      null|      72|       5.1|     240|   null|   null|   null|   null|        90|       804|      Clouds|    overcast clouds|         04n|\n",
      "+----------+--------------------+--------+---------+---------+---------+------+----------+--------+--------+--------+---------+----------+--------+----------+--------+-------+-------+-------+-------+----------+----------+------------+-------------------+------------+\n",
      "\n"
     ]
    }
   ],
   "source": [
    "# Display Dataframe data for London place\n",
    "df_weather_London.head()\n",
    "df=df_weather_London\n",
    "# Display for limit of 3 rows\n",
    "df.limit(3).show()"
   ]
  },
  {
   "cell_type": "code",
   "execution_count": 126,
   "metadata": {},
   "outputs": [
    {
     "data": {
      "text/plain": [
       "DataFrame[summary: string, dt: string, dt_iso: string, timezone: string, city_name: string, latitude: string, longitude: string, temp: string, feels_like: string, temp_min: string, temp_max: string, pressure: string, sea_level: string, grnd_level: string, humidity: string, wind_speed: string, wind_deg: string, rain_1h: string, rain_3h: string, snow_1h: string, snow_3h: string, clouds_all: string, weather_id: string, weather_main: string, weather_description: string, weather_icon: string]"
      ]
     },
     "execution_count": 126,
     "metadata": {},
     "output_type": "execute_result"
    }
   ],
   "source": [
    "# Meta data for the columns in data frame for London place\n",
    "df_weather_London.describe()"
   ]
  },
  {
   "cell_type": "code",
   "execution_count": 127,
   "metadata": {},
   "outputs": [
    {
     "data": {
      "text/plain": [
       "DataFrame[Name0: string, WindDirection: string, Period: string, Temperature: string, MaximumTemperature: string, Visibility: string, Latitude: string, WindSpeed: string, HeatIndex: string, CloudCover: string, MinimumTemperature: string, Datetime: string, Precipitation: string, SnowDepth: string, SeaLevelPressure: string, DewPoint: string, Name16: string, RelativeHumidity: string, ID: string, PrecipitationCover: string, WindGust: string, WindChill: string, Longitude: string]"
      ]
     },
     "execution_count": 127,
     "metadata": {},
     "output_type": "execute_result"
    }
   ],
   "source": [
    "# Meta data for the columns in data frame for India\n",
    "df_weather_india"
   ]
  },
  {
   "cell_type": "code",
   "execution_count": 128,
   "metadata": {},
   "outputs": [
    {
     "data": {
      "text/plain": [
       "DataFrame[Name0: string, Wind Direction: string, Period: string, Temperature: string, MaximumTemperature: string, Visibility: string, Latitude: string, WindSpeed: string, HeatIndex: string, CloudCover: string, MinimumTemperature: string, Datetime: string, Precipitation: string, SnowDepth: string, SeaLeve Pressure: string, DewPoint: string, Name16: string, RelativeHumidity: string, ID: string, PrecipitationCover: string, WindGust: string, WindChill: string, Longitude: string]"
      ]
     },
     "execution_count": 128,
     "metadata": {},
     "output_type": "execute_result"
    }
   ],
   "source": [
    "# Meta data for the columns in data frame for Bengaluru\n",
    "df_weather_bengaluru"
   ]
  },
  {
   "cell_type": "code",
   "execution_count": 129,
   "metadata": {},
   "outputs": [
    {
     "name": "stdout",
     "output_type": "stream",
     "text": [
      "+---------+--------------+------+-----------+------------------+----------+--------+---------+---------+----------+------------------+---------+-------------+---------+----------------+--------+---------+----------------+----+------------------+--------+---------+---------+\n",
      "|    Name0|Wind Direction|Period|Temperature|MaximumTemperature|Visibility|Latitude|WindSpeed|HeatIndex|CloudCover|MinimumTemperature| Datetime|Precipitation|SnowDepth|SeaLeve Pressure|DewPoint|   Name16|RelativeHumidity|  ID|PrecipitationCover|WindGust|WindChill|Longitude|\n",
      "+---------+--------------+------+-----------+------------------+----------+--------+---------+---------+----------+------------------+---------+-------------+---------+----------------+--------+---------+----------------+----+------------------+--------+---------+---------+\n",
      "|bengaluru|         99.62|   Jan|       21.4|              31.1|       6.7| 12.9664|     33.5|     29.7|        31|               7.1| 1/1/1900|         12.2|     null|           950.3|      13|bengaluru|              63|null|              0.36|    null|     null|  77.5872|\n",
      "|bengaluru|        110.37|   Feb|       23.5|              34.7|         7| 12.9664|     33.5|     33.1|      23.7|              10.1| 2/1/1900|          173|     null|           993.6|    12.1|bengaluru|           53.84|null|              1.28|    null|     null|  77.5872|\n",
      "|bengaluru|        127.28|   Mar|       25.8|              35.7|       7.1| 12.9664|     33.5|     40.8|      31.8|              12.1| 3/1/1900|        200.7|     null|           949.1|    13.5|bengaluru|           51.37|null|              1.46|    null|     null|  77.5872|\n",
      "|bengaluru|         167.4|   Apr|       27.2|                38|       7.2| 12.9664|     44.3|     37.7|      46.8|              17.1| 4/1/1900|       1664.7|     null|           949.3|    16.6|bengaluru|            56.7|null|               4.5|    null|     null|  77.5872|\n",
      "|bengaluru|        250.14|   May|       26.4|              36.6|       7.1| 12.9664|     59.4|     39.6|      59.1|              19.1| 5/1/1900|       2020.7|     null|             986|    18.9|bengaluru|           66.47|null|              6.47|    null|     null|  77.5872|\n",
      "|bengaluru|        264.12|   Jun|       24.5|              37.2|       7.3| 12.9664|     46.4|     38.1|      73.8|              18.7| 6/1/1900|       1148.7|     null|           963.2|    19.3|bengaluru|           74.49|null|              6.94|    null|     null|  77.5872|\n",
      "|bengaluru|        265.61|   Jul|       23.5|                32|         7| 12.9664|       54|     34.3|      81.5|              11.1| 7/1/1900|       2218.7|     null|          1006.7|      19|bengaluru|           77.11|null|              9.61|    null|     null|  77.5872|\n",
      "|bengaluru|        267.11|   Aug|       23.3|              31.1|         7| 12.9664|     40.7|     32.5|      80.8|              18.1| 8/1/1900|       2178.1|     null|           981.1|      19|bengaluru|           78.15|null|              9.38|    null|     null|  77.5872|\n",
      "|bengaluru|        258.43|   Sep|       23.6|              31.6|         7| 12.9664|     44.3|     33.2|      77.7|              16.7| 9/1/1900|      2788.38|     null|           949.5|    19.1|bengaluru|           77.27|null|              8.43|    null|     null|  77.5872|\n",
      "|bengaluru|        174.09|   Oct|       23.2|              31.8|       6.6| 12.9664|     40.7|     32.9|        72|              14.1|10/1/1900|       3492.6|     null|             984|    18.5|bengaluru|           77.07|null|              7.37|    null|     null|  77.5872|\n",
      "|bengaluru|         96.07|   Nov|         22|              31.1|       6.4| 12.9664|     29.5|     32.5|      61.4|              12.1|11/1/1900|        620.1|     null|             982|      17|bengaluru|           76.14|null|              3.84|    null|     null|  77.5872|\n",
      "|bengaluru|         93.26|   Dec|       20.8|              32.2|       6.4| 12.9664|     29.5|     31.3|      48.3|               9.1|12/1/1900|        525.7|     null|           971.7|    14.7|bengaluru|           71.34|null|              1.91|    null|     null|  77.5872|\n",
      "+---------+--------------+------+-----------+------------------+----------+--------+---------+---------+----------+------------------+---------+-------------+---------+----------------+--------+---------+----------------+----+------------------+--------+---------+---------+\n",
      "\n"
     ]
    }
   ],
   "source": [
    "# View data for data frame for Bengaluru\n",
    "df_weather_bengaluru.show()"
   ]
  },
  {
   "cell_type": "code",
   "execution_count": 132,
   "metadata": {},
   "outputs": [
    {
     "name": "stdout",
     "output_type": "stream",
     "text": [
      "+---------+--------------+------+-----------+------------------+----------+--------+---------+---------+----------+------------------+--------+-------------+---------+----------------+--------+---------+----------------+----+------------------+--------+---------+---------+\n",
      "|    Name0|Wind Direction|Period|Temperature|MaximumTemperature|Visibility|Latitude|WindSpeed|HeatIndex|CloudCover|MinimumTemperature|Datetime|Precipitation|SnowDepth|SeaLeve Pressure|DewPoint|   Name16|RelativeHumidity|  ID|PrecipitationCover|WindGust|WindChill|Longitude|\n",
      "+---------+--------------+------+-----------+------------------+----------+--------+---------+---------+----------+------------------+--------+-------------+---------+----------------+--------+---------+----------------+----+------------------+--------+---------+---------+\n",
      "|bengaluru|         99.62|   Jan|       21.4|              31.1|       6.7| 12.9664|     33.5|     29.7|        31|               7.1|1/1/1900|         12.2|     null|           950.3|      13|bengaluru|              63|null|              0.36|    null|     null|  77.5872|\n",
      "+---------+--------------+------+-----------+------------------+----------+--------+---------+---------+----------+------------------+--------+-------------+---------+----------------+--------+---------+----------------+----+------------------+--------+---------+---------+\n",
      "\n"
     ]
    }
   ],
   "source": [
    "# Applying filter for Only January month weather for Bengaluru\n",
    "df11 =df_weather_bengaluru.filter(df_weather_bengaluru.Period == 'Jan').show()\n"
   ]
  },
  {
   "cell_type": "markdown",
   "metadata": {},
   "source": [
    "For LOcation = Bengaluru, 2 months data of weather have beeb considered\n",
    "Their metrics are calculated.\n",
    "As metrics here are MIN,MIX, AVG and so on"
   ]
  },
  {
   "cell_type": "code",
   "execution_count": 133,
   "metadata": {},
   "outputs": [],
   "source": [
    "# Datafreame creation for Bengaluru weather\n",
    "df_weather_bengaluru = session.read.options(header=True, delimiter=',').csv('./weatherdata_bengaluru.csv')"
   ]
  },
  {
   "cell_type": "code",
   "execution_count": 138,
   "metadata": {},
   "outputs": [
    {
     "data": {
      "text/plain": [
       "DataFrame[Name0: string, Wind Direction: string, Period: string, Temperature: string, MaximumTemperature: string, Visibility: string, Latitude: string, WindSpeed: string, HeatIndex: string, CloudCover: string, MinimumTemperature: string, Datetime: string, Precipitation: string, SnowDepth: string, SeaLeve Pressure: string, DewPoint: string, Name16: string, RelativeHumidity: string, ID: string, PrecipitationCover: string, WindGust: string, WindChill: string, Longitude: string]"
      ]
     },
     "execution_count": 138,
     "metadata": {},
     "output_type": "execute_result"
    }
   ],
   "source": [
    "df_weather_bengaluru.createOrReplaceTempView(\"data1\")\n",
    "session.table(\"data1\")"
   ]
  },
  {
   "cell_type": "code",
   "execution_count": 139,
   "metadata": {},
   "outputs": [
    {
     "name": "stdout",
     "output_type": "stream",
     "text": [
      "+--------+\n",
      "|MAX_TEMP|\n",
      "+--------+\n",
      "|    27.2|\n",
      "+--------+\n",
      "\n"
     ]
    }
   ],
   "source": [
    "from pyspark.sql import SparkSession\n",
    "from pyspark.sql.types import *\n",
    "#sc = SparkContext()\n",
    "#spark = SparkSession(sc)\n",
    "#sqlContext = SQLContext(sc)\n",
    "metrics = session.sql(\"Select MAX(Temperature) AS MAX_TEMP from data1\")\n",
    "metrics.show()"
   ]
  },
  {
   "cell_type": "code",
   "execution_count": 142,
   "metadata": {},
   "outputs": [
    {
     "name": "stdout",
     "output_type": "stream",
     "text": [
      "+---------------+\n",
      "|MAX_PRECIPITATE|\n",
      "+---------------+\n",
      "|           9.61|\n",
      "+---------------+\n",
      "\n",
      "+--------------------+------+\n",
      "|MIN_PRECIPITATECOVER|Period|\n",
      "+--------------------+------+\n",
      "|                7.37|   Oct|\n",
      "|                8.43|   Sep|\n",
      "|                1.91|   Dec|\n",
      "|                9.38|   Aug|\n",
      "|                6.47|   May|\n",
      "|                6.94|   Jun|\n",
      "|                1.28|   Feb|\n",
      "|                3.84|   Nov|\n",
      "|                1.46|   Mar|\n",
      "|                0.36|   Jan|\n",
      "|                 4.5|   Apr|\n",
      "|                9.61|   Jul|\n",
      "+--------------------+------+\n",
      "\n",
      "+--------------------+\n",
      "|MAX_SeaLevelPressure|\n",
      "+--------------------+\n",
      "|                81.5|\n",
      "+--------------------+\n",
      "\n",
      "+--------------+\n",
      "|MAX_WIND_SPEED|\n",
      "+--------------+\n",
      "|          59.4|\n",
      "+--------------+\n",
      "\n",
      "+--------------+\n",
      "|MIN_WIND_SPEED|\n",
      "+--------------+\n",
      "|          29.5|\n",
      "+--------------+\n",
      "\n",
      "+--------+\n",
      "|MIN_TEMP|\n",
      "+--------+\n",
      "|    20.8|\n",
      "+--------+\n",
      "\n",
      "+-----------+\n",
      "|Temperature|\n",
      "+-----------+\n",
      "|       21.4|\n",
      "|       23.5|\n",
      "|       25.8|\n",
      "|       27.2|\n",
      "|       26.4|\n",
      "|       24.5|\n",
      "|       23.5|\n",
      "|       23.3|\n",
      "|       23.6|\n",
      "|       23.2|\n",
      "|       22.0|\n",
      "|       20.8|\n",
      "+-----------+\n",
      "\n",
      "+------+\n",
      "|Period|\n",
      "+------+\n",
      "|   Jan|\n",
      "|   Feb|\n",
      "|   Mar|\n",
      "|   Apr|\n",
      "|   May|\n",
      "|   Jun|\n",
      "|   Jul|\n",
      "|   Aug|\n",
      "|   Sep|\n",
      "|   Oct|\n",
      "|   Nov|\n",
      "|   Dec|\n",
      "+------+\n",
      "\n"
     ]
    }
   ],
   "source": [
    "metrics = session.sql(\"Select MAX(PrecipitationCover) as MAX_PRECIPITATE from data1\")\n",
    "metrics.show()\n",
    "\n",
    "\n",
    "metrics = session.sql(\"Select MIN(PrecipitationCover) as MIN_PRECIPITATECOVER,Period from data1 group by Period\")\n",
    "metrics.show()\n",
    "\n",
    "metrics = session.sql(\"Select MAX(CloudCover) as MAX_SeaLevelPressure from data1\")\n",
    "metrics.show()\n",
    "\n",
    "metrics = session.sql(\"Select MAX(WindSpeed) as MAX_WIND_SPEED from data1\")\n",
    "metrics.show()\n",
    "metrics = session.sql(\"Select MIN(WindSpeed) as MIN_WIND_SPEED from data1\")\n",
    "metrics.show()\n",
    "\n",
    "metrics = session.sql(\"Select MIN(Temperature) AS MIN_TEMP from data1\")\n",
    "metrics.show()\n",
    "\n",
    "\n",
    "import matplotlib.pyplot as plt; plt.rcdefaults()\n",
    "import numpy as np\n",
    "import matplotlib.pyplot as plt\n",
    "xpos=session.sql(\"select CAST(Temperature as Float) as Temperature from data1\")\n",
    "xpos.show()\n",
    "ypos=session.sql(\"select CAST(Period as String) as Period from data1\")\n",
    "ypos.show()"
   ]
  },
  {
   "cell_type": "code",
   "execution_count": 146,
   "metadata": {},
   "outputs": [
    {
     "data": {
      "image/png": "[encoded data removed]",
      "text/plain": [
       "<Figure size 640x480 with 1 Axes>"
      ]
     },
     "metadata": {},
     "output_type": "display_data"
    }
   ],
   "source": [
    "import numpy as np\n",
    "import matplotlib.pyplot as plt\n",
    "\n",
    "# data to plot\n",
    "n_groups = 4\n",
    "means_frank = session.sql(\"select CAST(Temperature as int) from data1\")\n",
    "means_guido = session.sql(\"select CAST(Precipitation as int) from data1\")\n",
    "\n",
    "# create plot\n",
    "fig, ax = plt.subplots()\n",
    "index = np.arange(n_groups)\n",
    "bar_width = 0.35\n",
    "opacity = 0.8\n",
    "means_frank = (50, 95, 140, 85)\n",
    "means_guido = (65, 32, 94, 80)\n",
    "rects1 = plt.bar(index, means_frank, bar_width,\n",
    "alpha=opacity,\n",
    "color='y',\n",
    "label='Precipitate')\n",
    "\n",
    "rects2 = plt.bar(index + bar_width, means_guido, bar_width,\n",
    "alpha=opacity,\n",
    "color='r',\n",
    "label='Heat')\n",
    "\n",
    "plt.xlabel('Temperature')\n",
    "plt.ylabel('Period')\n",
    "plt.title('Temperature by Period')\n",
    "plt.xticks(index + bar_width, ('A', 'B', 'C', 'D'))\n",
    "plt.legend()\n",
    "\n",
    "plt.tight_layout()\n",
    "plt.show()"
   ]
  },
  {
   "cell_type": "code",
   "execution_count": null,
   "metadata": {},
   "outputs": [],
   "source": []
  }
 ],
 "metadata": {
  "kernelspec": {
   "display_name": "Python 3",
   "language": "python",
   "name": "python3"
  },
  "language_info": {
   "codemirror_mode": {
    "name": "ipython",
    "version": 3
   },
   "file_extension": ".py",
   "mimetype": "text/x-python",
   "name": "python",
   "nbconvert_exporter": "python",
   "pygments_lexer": "ipython3",
   "version": "3.7.6"
  }
 },
 "nbformat": 4,
 "nbformat_minor": 4
}
